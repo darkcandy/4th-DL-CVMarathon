{
 "cells": [
  {
   "cell_type": "markdown",
   "metadata": {},
   "source": [
    "## 練習時間\n",
    "#### 請寫一個函式用來計算 Mean Square Error\n",
    "$ MSE = \\frac{1}{n}\\sum_{i=1}^{n}{(Y_i - \\hat{Y}_i)^2} $\n",
    "\n",
    "### Hint: [如何取平方](https://googoodesign.gitbooks.io/-ezpython/unit-1.html)"
   ]
  },
  {
   "cell_type": "markdown",
   "metadata": {},
   "source": [
    "# [作業目標]\n",
    "- 仿造範例的MAE函數, 自己寫一個MSE函數(參考上面公式)"
   ]
  },
  {
   "cell_type": "markdown",
   "metadata": {},
   "source": [
    "# [作業重點]\n",
    "- 注意程式的縮排\n",
    "- 是否能將數學公式, 轉換為 Python 的函式組合? (In[2], Out[2])"
   ]
  },
  {
   "cell_type": "code",
   "execution_count": 1,
   "metadata": {},
   "outputs": [],
   "source": [
    "# 載入基礎套件與代稱\n",
    "import numpy as np\n",
    "import matplotlib.pyplot as plt"
   ]
  },
  {
   "cell_type": "code",
   "execution_count": 2,
   "metadata": {},
   "outputs": [],
   "source": [
    "def mean_absolute_error(y, yp):\n",
    "    \"\"\"\n",
    "    計算 MAE\n",
    "    Args:\n",
    "        - y: 實際值\n",
    "        - yp: 預測值\n",
    "    Return:\n",
    "        - mae: MAE\n",
    "    \"\"\"\n",
    "    mae = MAE = sum(abs(y - yp)) / len(y)\n",
    "    return mae\n",
    "\n",
    "# 定義 mean_squared_error 這個函數, 計算並傳回 MSE\n",
    "def mean_squared_error(y,yp):\n",
    "    \"\"\"\n",
    "    請完成這個 Function 後往下執行\n",
    "    \"\"\"\n",
    "    mse = MSE = sum((y - yp)**2) / len(y)\n",
    "    return mse"
   ]
  },
  {
   "cell_type": "code",
   "execution_count": 3,
   "metadata": {},
   "outputs": [
    {
     "data": {
      "image/png": "[encoded data removed]",
      "text/plain": [
       "<Figure size 432x288 with 1 Axes>"
      ]
     },
     "metadata": {
      "needs_background": "light"
     },
     "output_type": "display_data"
    }
   ],
   "source": [
    "# 與範例相同, 不另外解說\n",
    "w = 3\n",
    "b = 0.5\n",
    "x_lin = np.linspace(0, 100, 101)\n",
    "y = (x_lin + np.random.randn(101) * 5) * w + b\n",
    "\n",
    "plt.plot(x_lin, y, 'b.', label = 'data points')\n",
    "plt.title(\"Assume we have data points\")\n",
    "plt.legend(loc = 2)\n",
    "plt.show()"
   ]
  },
  {
   "cell_type": "code",
   "execution_count": 4,
   "metadata": {},
   "outputs": [
    {
     "data": {
      "image/png": "[encoded data removed]",
      "text/plain": [
       "<Figure size 432x288 with 1 Axes>"
      ]
     },
     "metadata": {
      "needs_background": "light"
     },
     "output_type": "display_data"
    }
   ],
   "source": [
    "# 與範例相同, 不另外解說\n",
    "y_hat = x_lin * w + b\n",
    "plt.plot(x_lin, y, 'b.', label = 'data')\n",
    "plt.plot(x_lin, y_hat, 'r-', label = 'prediction')\n",
    "plt.title(\"Assume we have data points (And the prediction)\")\n",
    "plt.legend(loc = 2)\n",
    "plt.show()"
   ]
  },
  {
   "cell_type": "code",
   "execution_count": 5,
   "metadata": {},
   "outputs": [
    {
     "name": "stdout",
     "output_type": "stream",
     "text": [
      "The Mean squared error is 265.703\n",
      "The Mean absolute error is 13.236\n"
     ]
    }
   ],
   "source": [
    "# 執行 Function, 確認有沒有正常執行\n",
    "MSE = mean_squared_error(y, y_hat)\n",
    "MAE = mean_absolute_error(y, y_hat)\n",
    "print(\"The Mean squared error is %.3f\" % (MSE))\n",
    "print(\"The Mean absolute error is %.3f\" % (MAE))"
   ]
  },
  {
   "attachments": {},
   "cell_type": "markdown",
   "metadata": {},
   "source": [
    "# [作業2]\n",
    "\n",
    "請上 Kaggle, 在 Competitions 或 Dataset 中找一組競賽或資料並寫下：\n",
    "\n",
    "競賽主題:TREC-COVID Information Retrieval\n",
    "1. 你選的這組資料為何重要\n",
    "\n",
    "    (1)最近新冠肺炎肆虐，健康以及生存問題備受關注。\n",
    "\n",
    "    (2)資料含有關於新冠肺炎的問題及回答，可以從中聚焦人們\"最關注\"新冠肺炎的哪些問題，以提供施政者參考。\n",
    "\n",
    "    (3)討論熱度以及關鍵詞可以幫助人民察覺新冠肺炎的異狀以及影響。\n",
    "    \n",
    "\n",
    "2. 資料從何而來 (tips: 譬如提供者是誰、以什麼方式蒐集)\n",
    "\n",
    "    提供者:Allen Institute for Artificial Intelligence\n",
    "    \n",
    "    蒐集方式:取自PMC(US National Library of Medicine National Institutes of Health )的平行共審文章、medRxiv和bioRxiv網站中的文章，將其有covid-19以及有covid-19家族相關病毒的文章節錄，並分類成問題與回答的dataset、文章topic的dataset等。\n",
    "    \n",
    "\n",
    "3. 蒐集而來的資料型態為何\n",
    "\n",
    "    有結構化的非結構化文字資料，表格型態，但資料為文字，例如:query、question、narrative等等\n",
    "    亦有結構化的數值資料，例如:topic-id、iteration、judgment等等\n",
    "\n",
    "\n",
    "4. 這組資料想解決的問題如何評估\n",
    "\n",
    "    這組資料想要解決的問題: 辨別在CORD-19 dataset(先前比賽提供的dataset,有文章)match現在提供的dataset中的queries.\n",
    "    \n",
    "    如何評估:分類問題-\n",
    "        (1)TF-IDF（Term Frequency - Inverse Document Frequency）,評斷文字出現的次數並進行加權，過濾掉不重要的文字。\n",
    "        (2)F-Measure判斷正確性，權衡Precision和Recall\n",
    "    \n",
    "# [作業3]\n",
    "\n",
    "想像你經營一個自由載客車隊，你希望能透過數據分析以提升業績，請你思考並描述你如何規劃整體的分析/解決方案：\n",
    "\n",
    "1. 核心問題為何 (tips：如何定義 「提升業績 & 你的假設」)\n",
    "\n",
    "   提升業績:增加載客率(除了普通客戶族群外，包含大眾客戶族群，也就是大多數人)、車隊形象提升\n",
    "   \n",
    "   我的假設:\n",
    "            (1)了解載客熱點，提供車隊參考或增加人手，可以增加載客率。\n",
    "            (2)了解司機載客形象(客戶評論)，分析大部分的優缺點評論，以及顧客大多數的建議提供，可以提升車隊形象。\n",
    "            (3)了解車子新舊與客戶評論的關係，了解是否\"需要\"汰換車子。\n",
    "            (4)分析大眾族群的特性，以及常去的地方，可以增加載客率，精準行銷。\n",
    "    \n",
    "    \n",
    "2. 資料從何而來 (tips：哪些資料可能會對你想問的問題產生影響 & 資料如何蒐集)\n",
    "\n",
    "    (1)先前的載客數據(年齡層分佈以及客戶評論)\n",
    "    (2)政府開放式資料(SRDA)\n",
    "    (3)問卷調查(常去的地方以及年齡層)\n",
    "    (4)社群媒體(打卡資料與年齡)\n",
    "    \n",
    "    \n",
    "3. 蒐集而來的資料型態為何\n",
    "\n",
    "    (1)數據(年齡層、問卷中的\"影響程度\"回答等)\n",
    "    (2)文字(評論、問卷建議、常去的地方)\n",
    "\n",
    "\n",
    "4. 你要回答的問題，其如何評估 (tips：你的假設如何驗證)\n",
    "    \n",
    "    F-Measure判斷正確性，權衡Precision和Recall,兩者同樣重要，因為在相關的地方派車可以平均拓展各地的客群。"
   ]
  },
  {
   "cell_type": "code",
   "execution_count": null,
   "metadata": {},
   "outputs": [],
   "source": []
  }
 ],
 "metadata": {
  "anaconda-cloud": {},
  "kernelspec": {
   "display_name": "Python 3",
   "language": "python",
   "name": "python3"
  },
  "language_info": {
   "codemirror_mode": {
    "name": "ipython",
    "version": 3
   },
   "file_extension": ".py",
   "mimetype": "text/x-python",
   "name": "python",
   "nbconvert_exporter": "python",
   "pygments_lexer": "ipython3",
   "version": "3.7.6"
  }
 },
 "nbformat": 4,
 "nbformat_minor": 1
}
