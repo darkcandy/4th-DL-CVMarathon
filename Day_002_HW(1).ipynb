{
 "cells": [
  {
   "cell_type": "markdown",
   "metadata": {},
   "source": [
    "## [作業目標]\n",
    "了解機器學習適合應用的領域與範疇。"
   ]
  },
  {
   "cell_type": "markdown",
   "metadata": {},
   "source": [
    "## [作業重點]\n",
    "透過瞭解機器學習的運作方式，找出非常適用機器學習應用的領域及其原因"
   ]
  },
  {
   "cell_type": "markdown",
   "metadata": {},
   "source": [
    "## 作業\n",
    "請找出一個你認為機器學習可以發光發熱的領域並闡述原因? "
   ]
  },
  {
   "cell_type": "code",
   "execution_count": null,
   "metadata": {},
   "outputs": [],
   "source": [
    "我認為機器學習可以運用在教育領域上。\n",
    "原因: (1)幫助師長了解學生的學習狀況，: 可以透過孩子的考試錯誤的題目來分析什麼樣的題目有可能是孩子常錯的，藉由題庫中的特定關鍵字，由機器學習的方式自動整理出題目給孩子練習。\n",
    "      (2)圖像化的方式讓孩子辨別危險: 藉由機器學習辨認生活中存在的危險日常用品，可以讓孩童免於受傷的危險\n",
    "      (3)生活上的學習: 可以透過影像辨認方式讓孩童在日常生活也可以學習(例如:當機器辨認出實驗器材後，可以推播相關知識點給學生)"
   ]
  }
 ],
 "metadata": {
  "kernelspec": {
   "display_name": "Python 3",
   "language": "python",
   "name": "python3"
  },
  "language_info": {
   "codemirror_mode": {
    "name": "ipython",
    "version": 3
   },
   "file_extension": ".py",
   "mimetype": "text/x-python",
   "name": "python",
   "nbconvert_exporter": "python",
   "pygments_lexer": "ipython3",
   "version": "3.7.6"
  }
 },
 "nbformat": 4,
 "nbformat_minor": 2
}
